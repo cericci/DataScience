{
  "nbformat": 4,
  "nbformat_minor": 0,
  "metadata": {
    "colab": {
      "name": "Ejercicios_Intro.ipynb",
      "provenance": [],
      "include_colab_link": true
    },
    "kernelspec": {
      "name": "python3",
      "display_name": "Python 3"
    }
  },
  "cells": [
    {
      "cell_type": "markdown",
      "metadata": {
        "id": "view-in-github",
        "colab_type": "text"
      },
      "source": [
        "<a href=\"https://colab.research.google.com/github/cericci/DataScience/blob/master/1.Intro/appendix.Ejercicios_Intro.ipynb\" target=\"_parent\"><img src=\"https://colab.research.google.com/assets/colab-badge.svg\" alt=\"Open In Colab\"/></a>"
      ]
    },
    {
      "cell_type": "markdown",
      "metadata": {
        "id": "fGUsb_Gzunnd"
      },
      "source": [
        "#Ejercitación\n",
        "\n",
        "Nota: Para aquellos usuarios que se encuentren en nivel intermedio / avanzado, realizar los mismos ejercicios implementando funciones o funciones lambda. \n"
      ]
    },
    {
      "cell_type": "markdown",
      "metadata": {
        "id": "mMHKVHpguq9g"
      },
      "source": [
        "1. Escribir un programa que almacene la cadena `Happy Coding!` en una variable y luego muestre por pantalla."
      ]
    },
    {
      "cell_type": "code",
      "metadata": {
        "id": "Qm4rt3gvumSf",
        "colab": {
          "base_uri": "https://localhost:8080/"
        },
        "outputId": "6a6b6e98-0a21-48f9-a9c0-498be96304f4"
      },
      "source": [
        "cadena = 'Happy Coding!'\n",
        "print (cadena)"
      ],
      "execution_count": 1,
      "outputs": [
        {
          "output_type": "stream",
          "name": "stdout",
          "text": [
            "Happy Coding!\n"
          ]
        }
      ]
    },
    {
      "cell_type": "markdown",
      "metadata": {
        "id": "G6GA-fssuudU"
      },
      "source": [
        "2. Escribir un programa que pregunte tu nombre y después que muestre por pantalla la cadena ¡Happy Coding <nombre>!, donde <nombre> es el nombre que el usuario haya introducido."
      ]
    },
    {
      "cell_type": "code",
      "metadata": {
        "id": "jUnbgGPpu8BC",
        "colab": {
          "base_uri": "https://localhost:8080/"
        },
        "outputId": "0a91378e-208e-4f4e-b3b2-58edbed08190"
      },
      "source": [
        "cadena = input(\"Ingrese su nombre: \")\n",
        "print ('Happy Coding', cadena, '!')"
      ],
      "execution_count": 3,
      "outputs": [
        {
          "output_type": "stream",
          "name": "stdout",
          "text": [
            "Ingrese su nombre: ceci\n",
            "Happy Coding ceci !\n"
          ]
        }
      ]
    },
    {
      "cell_type": "markdown",
      "metadata": {
        "id": "UbeG5Ogiu8sQ"
      },
      "source": [
        "3. Escribir un programa que pregunte al usuario una cantidad de dinero a invertir (Recuerda que podemos usar bananas XD ), el interés anual y el número de años, y muestre por pantalla el capital obtenido de la inversión."
      ]
    },
    {
      "cell_type": "code",
      "metadata": {
        "id": "RLDPBHm2vQ23",
        "colab": {
          "base_uri": "https://localhost:8080/"
        },
        "outputId": "85f9cf25-58df-4aff-a785-6e5eda539cd0"
      },
      "source": [
        "dinero = input(\"Ingrese la cantidad de dinero a invertir: \")\n",
        "interes = input(\"Ingrese el interes anual: \")\n",
        "anios = input('Ingrese la cantidad de años:')\n",
        "capital = 0\n",
        "if dinero.isdecimal:\n",
        "  if interes.isdecimal:\n",
        "    if anios.isnumeric:\n",
        "      capital = float(dinero) * float(interes) * int(anios)\n",
        "      print('Se obtendran $', format(capital))\n",
        "    else:\n",
        "      print('El valor de años ingresado no es correcto')\n",
        "  else:\n",
        "    print('El valor de intereses ingresado no es correcto')\n",
        "else:\n",
        "  print('El valor del dinero ingresado no es correcto')\n",
        "\n",
        "\n"
      ],
      "execution_count": 15,
      "outputs": [
        {
          "output_type": "stream",
          "name": "stdout",
          "text": [
            "Ingrese la cantidad de dinero a invertir: 10000\n",
            "Ingrese el interes anual: 45\n",
            "Ingrese la cantidad de años:5\n",
            "Se obtendran $ 2250000.0\n"
          ]
        }
      ]
    },
    {
      "cell_type": "markdown",
      "metadata": {
        "id": "AowcRnXTvZjX"
      },
      "source": [
        "4. Escribir un programa que pida al usuario un número entero positivo y muestre por pantalla todos los números impares desde 1 hasta ese número separados por comas."
      ]
    },
    {
      "cell_type": "code",
      "metadata": {
        "id": "t60O4ePWvbnC",
        "colab": {
          "base_uri": "https://localhost:8080/"
        },
        "outputId": "37e044fc-bba4-4558-8427-98e42a8f1331"
      },
      "source": [
        "numero = int(input(\"Ingrese un numero positivo: \"))\n",
        "i = 1\n",
        "while i < numero:\n",
        "  if i % 2 != 0:\n",
        "    print( i)\n",
        "  i += 1\n",
        "\n",
        "\n"
      ],
      "execution_count": 22,
      "outputs": [
        {
          "output_type": "stream",
          "name": "stdout",
          "text": [
            "Ingrese un numero positivo: 25\n",
            "1\n",
            "3\n",
            "5\n",
            "7\n",
            "9\n",
            "11\n",
            "13\n",
            "15\n",
            "17\n",
            "19\n",
            "21\n",
            "23\n"
          ]
        }
      ]
    },
    {
      "cell_type": "markdown",
      "metadata": {
        "id": "6lNEOf3Rvb2N"
      },
      "source": [
        "5. Escribir un programa que almacene en una lista los números del 1 al 10 y los muestre por pantalla en orden inverso separados por comas (Hint: Pueden utilizar la función `end=` en el print)."
      ]
    },
    {
      "cell_type": "code",
      "metadata": {
        "id": "-429VzhEv1zi",
        "colab": {
          "base_uri": "https://localhost:8080/"
        },
        "outputId": "c919b615-8c76-4240-a2f4-843a038e6518"
      },
      "source": [
        "lista = [1, 2, 3, 4, 5, 6, 7, 8, 9, 10]\n",
        "#ordenados = lista.sort(reverse=True)))\n",
        "print(sorted(lista, reverse=True))\n",
        "print(lista)"
      ],
      "execution_count": 28,
      "outputs": [
        {
          "output_type": "stream",
          "name": "stdout",
          "text": [
            "[10, 9, 8, 7, 6, 5, 4, 3, 2, 1]\n",
            "[1, 2, 3, 4, 5, 6, 7, 8, 9, 10]\n"
          ]
        }
      ]
    }
  ]
}